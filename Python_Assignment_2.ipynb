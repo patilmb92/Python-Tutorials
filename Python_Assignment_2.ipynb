{
 "cells": [
  {
   "cell_type": "markdown",
   "metadata": {
    "colab_type": "text",
    "id": "l0ZzOlyxB-kf"
   },
   "source": [
    "<h1>Python: without numpy or sklearn </h1>"
   ]
  },
  {
   "cell_type": "markdown",
   "metadata": {
    "colab_type": "text",
    "id": "C0xO8JV9B-ki"
   },
   "source": [
    "<h3> Q1: Given two matrices please print the product of those two matrices </h3>\n",
    "<pre>\n",
    "\n",
    "Ex 1: A   = [[1 3 4]\n",
    "             [2 5 7]\n",
    "             [5 9 6]]\n",
    "      B   = [[1 0 0]\n",
    "             [0 1 0]\n",
    "             [0 0 1]]\n",
    "      A*B = [[1 3 4]\n",
    "             [2 5 7]\n",
    "             [5 9 6]]\n",
    "\n",
    "     \n",
    "Ex 2: A   = [[1 2]\n",
    "             [3 4]]\n",
    "      B   = [[1 2 3 4 5]\n",
    "             [5 6 7 8 9]]\n",
    "      A*B = [[11 14 17 20 23]\n",
    "             [23 30 36 42 51]]\n",
    "             \n",
    "Ex 3: A   = [[1 2]\n",
    "             [3 4]]\n",
    "      B   = [[1 4]\n",
    "             [5 6]\n",
    "             [7 8]\n",
    "             [9 6]]\n",
    "      A*B =Not possible\n",
    "</pre>"
   ]
  },
  {
   "cell_type": "code",
   "execution_count": 1,
   "metadata": {
    "colab": {},
    "colab_type": "code",
    "id": "rnssAfpgB-kj"
   },
   "outputs": [
    {
     "name": "stdout",
     "output_type": "stream",
     "text": [
      "enter the number of rows in A: 3\n",
      "enter the number of column in A or number of rows in B: 3\n",
      "enter number of column in B: 3\n",
      "Enter the element in A:1\n",
      "Enter the element in A:3\n",
      "Enter the element in A:4\n",
      "Enter the element in A:2\n",
      "Enter the element in A:5\n",
      "Enter the element in A:7\n",
      "Enter the element in A:5\n",
      "Enter the element in A:9\n",
      "Enter the element in A:6\n",
      "Enter the element in B:1\n",
      "Enter the element in B:0\n",
      "Enter the element in B:0\n",
      "Enter the element in B:0\n",
      "Enter the element in B:1\n",
      "Enter the element in B:0\n",
      "Enter the element in B:0\n",
      "Enter the element in B:0\n",
      "Enter the element in B:1\n",
      "\n",
      "Multiplication of A and B:\n",
      "1   3   4   \n",
      "2   5   7   \n",
      "5   9   6   \n"
     ]
    }
   ],
   "source": [
    "def matrix_mul():\n",
    "\n",
    "    p=int(input(\"enter the number of rows in A: \"))\n",
    "    n=int(input('enter the number of column in A or number of rows in B: '))\n",
    "    q=int(input('enter number of column in B: '))\n",
    "\n",
    "    A=[[int(input('Enter the element in A:'))for i in range(n)]for j in range(p)]\n",
    "    B=[[int(input('Enter the element in B:'))for i in range(q)]for j in range(n)]\n",
    "\n",
    "    #print(mat1)\n",
    "    #print(mat2)\n",
    "\n",
    "    result=[[0 for i in range(q)] for j in range(p)]\n",
    "    result1=[]\n",
    "    for i in range(p):\n",
    "        for j in range(q):\n",
    "            for k in range(n):\n",
    "                result[i][j]=result[i][j]+A[i][k]*B[k][j]\n",
    "    print()        \n",
    "    print(\"Multiplication of A and B:\")\n",
    "            \n",
    "    for i in range(p):\n",
    "        for j in range(q):\n",
    "            print(format(result[i][j],\"<4\"),end=\"\")\n",
    "        print()\n",
    "        \n",
    "matrix_mul()"
   ]
  },
  {
   "cell_type": "markdown",
   "metadata": {
    "colab_type": "text",
    "id": "at4VwLggB-kn"
   },
   "source": [
    "<h3> Q2: Select a number randomly with probability proportional to its magnitude from the given array of n elements</h3>\n",
    "\n",
    "consider an experiment, selecting an element from the list A randomly with probability proportional to its magnitude.\n",
    "assume we are doing the same experiment for 100 times with replacement, in each experiment you will print a number that is selected randomly from A.\n",
    "\n",
    "<pre>\n",
    "Ex 1: A = [0 5 27 6 13 28 100 45 10 79]\n",
    "let f(x) denote the number of times x getting selected in 100 experiments.\n",
    "f(100) > f(79) > f(45) > f(28) > f(27) > f(13) > f(10) > f(6) > f(5) > f(0)\n",
    "</pre>"
   ]
  },
  {
   "cell_type": "code",
   "execution_count": 2,
   "metadata": {
    "colab": {},
    "colab_type": "code",
    "id": "B6S2dpBhB-kn"
   },
   "outputs": [
    {
     "name": "stdout",
     "output_type": "stream",
     "text": [
      "{79: 31, 100: 26, 45: 19, 28: 8, 13: 2, 27: 8, 5: 2, 6: 2, 10: 1}\n"
     ]
    }
   ],
   "source": [
    "from random import uniform\n",
    "import random\n",
    "def pick_a_number_from_list(A):\n",
    "    sum_A=0\n",
    "    cum_sum=[]\n",
    "    for i in range(len(A)):\n",
    "        sum_A = sum_A + A[i]\n",
    "        cum_sum.append(sum_A)\n",
    "    #print(cum_sum) \n",
    "    r=int(random.uniform(0,sum_A))\n",
    "    #print(r)\n",
    "    num=0\n",
    "    for i in range(len(cum_sum)):\n",
    "        if(r>=cum_sum[i] and r<cum_sum[i+1]):\n",
    "            return A[i+1]\n",
    "    return num\n",
    "\n",
    "def sampling_based_on_magnitued():\n",
    "    A=[0,5,27,6,13,28,100,45,10,79]\n",
    "    dic=dict()\n",
    "    #A.sort()\n",
    "    #print(A,sum(A))\n",
    "    for i in range(1,100):\n",
    "        num=pick_a_number_from_list(A)\n",
    "        #print(number)\n",
    "        if num not in dic:\n",
    "            dic[num]=1\n",
    "        else:\n",
    "            dic[num]+=1\n",
    "    print(dic)\n",
    "\n",
    "sampling_based_on_magnitued()\n"
   ]
  },
  {
   "cell_type": "markdown",
   "metadata": {
    "colab_type": "text",
    "id": "D1xQy2WWB-kq"
   },
   "source": [
    "<h3> Q3: Replace the digits in the string with #</h3>\n",
    "\n",
    "consider a string that will have digits in that, we need to remove all the not digits and replace the digits with #\n",
    "<pre>\n",
    "Ex 1: A = 234                Output: ###\n",
    "Ex 2: A = a2b3c4             Output: ###\n",
    "Ex 3: A = abc                Output:   (empty string)\n",
    "Ex 5: A = #2a$#b%c%561#      Output: ####\n",
    "</pre>"
   ]
  },
  {
   "cell_type": "code",
   "execution_count": 3,
   "metadata": {
    "colab": {},
    "colab_type": "code",
    "id": "fxczi2jzB-kr"
   },
   "outputs": [
    {
     "name": "stdout",
     "output_type": "stream",
     "text": [
      "Enter the string:ab2c34#\n",
      "Input string: ab2c34#     Output: ###\n"
     ]
    }
   ],
   "source": [
    "import re\n",
    "\n",
    "string=str(input(\"Enter the string:\"))\n",
    "\n",
    "def replace_digits(string): \n",
    "    a='#'*len(re.sub('\\D','',string))\n",
    "    return a\n",
    "\n",
    "print(\"Input string:\",string,'    Output:',replace_digits(string))\n"
   ]
  },
  {
   "cell_type": "markdown",
   "metadata": {
    "colab_type": "text",
    "id": "j7h0Ywg7B-kw"
   },
   "source": [
    "<h3> Q4: Students marks dashboard</h3>\n",
    "\n",
    "consider the marks list of class students given two lists <br>\n",
    "Students = ['student1','student2','student3','student4','student5','student6','student7','student8','student9','student10'] <br>\n",
    "Marks = [45, 78, 12, 14, 48, 43, 45, 98, 35, 80] <br>\n",
    "from the above two lists the Student[0] got Marks[0],  Student[1] got Marks[1] and so on <br><br>\n",
    "your task is to print the name of students\n",
    "<strong>a. Who got top 5 ranks, in the descending order of marks</strong> <br>\n",
    "<strong>b. Who got least 5 ranks, in the increasing order of marks</strong><br>\n",
    "<strong>d. Who got marks between  &gt;25th percentile &lt;75th percentile, in the increasing order of marks</strong>\n",
    "\n",
    "<pre>\n",
    "Ex 1: \n",
    "Students=['student1','student2','student3','student4','student5','student6','student7','student8','student9','student10'] \n",
    "Marks = [45, 78, 12, 14, 48, 43, 47, 98, 35, 80]\n",
    "a. \n",
    "student8  98\n",
    "student10 80\n",
    "student2  78\n",
    "student5  48\n",
    "student7  47\n",
    "b.\n",
    "student3 12\n",
    "student4 14\n",
    "student9 35\n",
    "student6 43\n",
    "student1 45\n",
    "c.\n",
    "student9 35\n",
    "student6 43\n",
    "student1 45\n",
    "student7 47\n",
    "student5 48\n",
    "</pre>"
   ]
  },
  {
   "cell_type": "code",
   "execution_count": 4,
   "metadata": {
    "colab": {},
    "colab_type": "code",
    "id": "cxPJgItsB-kx"
   },
   "outputs": [
    {
     "name": "stdout",
     "output_type": "stream",
     "text": [
      "a.Students Who got top 5 ranks, in the descending order of marks;\n",
      "\n",
      "('student8', 98)\n",
      "('student10', 80)\n",
      "('student2', 78)\n",
      "('student5', 48)\n",
      "('student1', 45)\n",
      "('student7', 45)\n",
      "\n",
      "\n",
      "b.Students Who got least 5 ranks, in the increasing order of marks;\n",
      "\n",
      "('student3', 12)\n",
      "('student4', 14)\n",
      "('student9', 35)\n",
      "('student6', 43)\n",
      "('student1', 45)\n",
      "\n",
      "\n",
      "c.student Who got marks between >25th percentile <75th percentile, in the increasing order of marks;\n",
      "\n",
      "('student5', 48)\n",
      "('student1', 45)\n",
      "('student7', 45)\n",
      "('student6', 43)\n",
      "('student9', 35)\n"
     ]
    }
   ],
   "source": [
    "def display_dash_board(Students,Marks):\n",
    "    dictionary = dict(zip(Students,Marks))\n",
    "    #print('Student_Mark_dict:',dictionary,'\\n')\n",
    "    sort_dict=sorted(dictionary.items(),key=lambda item: item[1],reverse=True)\n",
    "    print('a.Students Who got top 5 ranks, in the descending order of marks;\\n')\n",
    "    for i in range(len(sort_dict)):\n",
    "        print(sort_dict[i])\n",
    "        if i>4:\n",
    "            break\n",
    "    print(\"\\n\")        \n",
    "\n",
    "    sort_dict=sorted(dictionary.items(),key=lambda item: item[1])\n",
    "    print('b.Students Who got least 5 ranks, in the increasing order of marks;\\n')\n",
    "    for i in range(len(sort_dict)):\n",
    "        print(sort_dict[i])\n",
    "        if i>3:\n",
    "            break\n",
    "\n",
    "    print('\\n')\n",
    "    print('c.student Who got marks between >25th percentile <75th percentile, in the increasing order of marks;\\n')\n",
    "    sort_dict=sorted(dictionary.items(),key=lambda item: item[1],reverse=True)\n",
    "    Sort_Marks=sorted(Marks,reverse=True)\n",
    "\n",
    "    max=Sort_Marks[0]\n",
    "    min=Sort_Marks[-1]\n",
    "    diff = max - min\n",
    "    pre_25 = diff*0.25\n",
    "    pre_75 = diff*0.75\n",
    "\n",
    "    for i in range(len(sort_dict)):\n",
    "        for j in range(1,2):\n",
    "            if sort_dict[i][j]>pre_25 and sort_dict[i][j]<pre_75:\n",
    "                print(sort_dict[i])\n",
    "                break\n",
    "                \n",
    "Students = ['student1','student2','student3','student4','student5','student6','student7','student8','student9','student10'] \n",
    "Marks = [45, 78, 12, 14, 48, 43, 45, 98, 35, 80]\n",
    "\n",
    "display_dash_board(Students,Marks)"
   ]
  },
  {
   "cell_type": "markdown",
   "metadata": {
    "colab_type": "text",
    "id": "qha0OhQHB-k1"
   },
   "source": [
    "<h3> Q5: Find the closest points</h3>\n",
    "\n",
    "consider you have given n data points in the form of list of tuples like S=[(x1,y1),(x2,y2),(x3,y3),(x4,y4),(x5,y5),..,(xn,yn)] and a point P=(p,q) <br> your task is to find 5 closest points(based on cosine distance) in S from P\n",
    "<br>cosine distance between two points (x,y) and (p,q) is defind as $cos^{-1}(\\frac{(x\\cdot p+y\\cdot q)}{\\sqrt(x^2+y^2)\\cdot\\sqrt(p^2+q^2)})$\n",
    "<pre>\n",
    "Ex:\n",
    "\n",
    "S= [(1,2),(3,4),(-1,1),(6,-7),(0, 6),(-5,-8),(-1,-1)(6,0),(1,-1)]\n",
    "P= (3,-4)\n",
    "<img src='https://i.imgur.com/vIFPOcG.jpg', width=300>\n",
    "Output:\n",
    "(6,-7)\n",
    "(1,-1)\n",
    "(6,0)\n",
    "(-5,-8)\n",
    "(-1,-1)\n",
    "</pre>"
   ]
  },
  {
   "cell_type": "code",
   "execution_count": 5,
   "metadata": {
    "colab": {},
    "colab_type": "code",
    "id": "wA5I1g-2B-k2"
   },
   "outputs": [
    {
     "name": "stdout",
     "output_type": "stream",
     "text": [
      "output\n",
      "(6, -7)\n",
      "(1, -1)\n",
      "(6, 0)\n",
      "(-5, -8)\n",
      "(-1, -1)\n"
     ]
    }
   ],
   "source": [
    "import math\n",
    "S=[(1,2),(3,4),(-1,1),(6,-7),(0, 6),(-5,-8),(-1,-1),(6,0),(1,-1)]\n",
    "P=[3,-4]\n",
    "\n",
    "def closest_points_to_p(S, P):\n",
    "    d=[]\n",
    "    for i in range(len(S)):\n",
    "        for j in range(1):\n",
    "            a=(S[i][0]*P[0])+(S[i][1])*P[1]\n",
    "            b=math.sqrt((S[i][0]**2)+(S[i][1]**2))*math.sqrt((P[0]**2)+(P[1]**2))\n",
    "            c=a/b\n",
    "            d.append(math.acos(c))\n",
    "    #print(d)   \n",
    "    dic= dict(zip(S,d))\n",
    "    #print(dic)\n",
    "    sort_dic=sorted(dic.items(),key=lambda item: item[1])     \n",
    "    #print('sort_dic;',sort_dic)\n",
    "\n",
    "    for i in range(len(sort_dic)):\n",
    "        for j in range(1):\n",
    "            if i>4:\n",
    "                break\n",
    "            print(sort_dic[i][j])\n",
    "            \n",
    "print('output')\n",
    "closest_points_to_p(S, P)"
   ]
  },
  {
   "cell_type": "markdown",
   "metadata": {
    "colab_type": "text",
    "id": "-g11jeAiB-k5"
   },
   "source": [
    "<h3> Q6: Find Which line separates oranges and apples</h3>\n",
    "consider you have given two set of data points in the form of list of tuples like \n",
    "<pre>\n",
    "Red =[(R11,R12),(R21,R22),(R31,R32),(R41,R42),(R51,R52),..,(Rn1,Rn2)]\n",
    "Blue=[(B11,B12),(B21,B22),(B31,B32),(B41,B42),(B51,B52),..,(Bm1,Bm2)]\n",
    "</pre>\n",
    "and set of line equations(in the string formate, i.e list of strings)\n",
    "<pre>\n",
    "Lines = [a1x+b1y+c1,a2x+b2y+c2,a3x+b3y+c3,a4x+b4y+c4,..,K lines]\n",
    "Note: you need to string parsing here and get the coefficients of x,y and intercept\n",
    "</pre>\n",
    "your task is to for each line that is given print \"YES\"/\"NO\", you will print yes, if all the red points are one side of the line and blue points are other side of the line, otherwise no\n",
    "<pre>\n",
    "Ex:\n",
    "Red= [(1,1),(2,1),(4,2),(2,4), (-1,4)]\n",
    "Blue= [(-2,-1),(-1,-2),(-3,-2),(-3,-1),(1,-3)]\n",
    "Lines=[\"1x+1y+0\",\"1x-1y+0\",\"1x+0y-3\",\"0x+1y-0.5\"]\n",
    "<img src='https://i.imgur.com/DoQf7mE.jpg' width=400>\n",
    "Output:\n",
    "YES\n",
    "NO\n",
    "NO\n",
    "YES\n",
    "</pre>"
   ]
  },
  {
   "cell_type": "code",
   "execution_count": 6,
   "metadata": {
    "colab": {},
    "colab_type": "code",
    "id": "eRxExaTRB-k6"
   },
   "outputs": [
    {
     "name": "stdout",
     "output_type": "stream",
     "text": [
      "YES\n",
      "NO\n",
      "NO\n",
      "YES\n"
     ]
    }
   ],
   "source": [
    "import math\n",
    "\n",
    "def i_am_the_one(R,B,line):\n",
    "    \n",
    "    R_rightside=False\n",
    "    \n",
    "    line_output_R=[]\n",
    "    for i in range(len(R)):\n",
    "        for j in range(1):\n",
    "            a=eval(line.replace('x','*%s'%R[i][j]).replace('y','*%s'%R[i][j+1]))\n",
    "            line_output_R.append(a)\n",
    "            \n",
    "    for i in line_output_R:\n",
    "        if i<=0:\n",
    "            R_rightside=False\n",
    "            break\n",
    "            \n",
    "    else:\n",
    "        R_rightside=True\n",
    "        \n",
    "    B_leftside=False\n",
    "    \n",
    "    line_output_B=[]\n",
    "    for i in range(len(B)):\n",
    "        for j in range(1):\n",
    "            b=eval(line.replace('x','*%s'%B[i][j]).replace('y','*%s'%B[i][j+1]))\n",
    "            line_output_B.append(b)\n",
    "            \n",
    "    for i in line_output_B:\n",
    "        if i>=0:\n",
    "            B_leftside=False\n",
    "            break\n",
    "    else:\n",
    "        B_leftside=True\n",
    "        \n",
    "    if R_rightside and B_leftside:\n",
    "        return'YES'  \n",
    "    else:\n",
    "        return'NO'\n",
    "        \n",
    "Red= [(1,1),(2,1),(4,2),(2,4), (-1,4)]\n",
    "Blue= [(-2,-1),(-1,-2),(-3,-2),(-3,-1),(1,-3)]\n",
    "Lines=[\"1x+1y+0\",\"1x-1y+0\",\"1x+0y-3\",\"0x+1y-0.5\"]\n",
    "\n",
    "for i in Lines:\n",
    "    yes_or_no = i_am_the_one(Red, Blue, i)\n",
    "    print(yes_or_no)"
   ]
  },
  {
   "cell_type": "markdown",
   "metadata": {
    "colab_type": "text",
    "id": "9OBpURbNB-k9"
   },
   "source": [
    "<h3> Q7: Filling the missing values in the specified formate</h3>\n",
    "You will be given a string with digits and '\\_'(missing value) symbols you have to replace the '\\_' symbols as explained \n",
    "<pre>\n",
    "Ex 1: _, _, _, 24 ==> 24/4, 24/4, 24/4, 24/4 i.e we. have distributed the 24 equally to all 4 places <br>\n",
    "Ex 2: 40, _, _, _, 60 ==> (60+40)/5,(60+40)/5,(60+40)/5,(60+40)/5,(60+40)/5 ==> 20, 20, 20, 20, 20 i.e. the sum of (60+40) is distributed qually to all 5 places<br>\n",
    "Ex 3: 80, _, _, _, _  ==> 80/5,80/5,80/5,80/5,80/5 ==> 16, 16, 16, 16, 16 i.e. the 80 is distributed qually to all 5 missing values that are right to it<br>\n",
    "Ex 4: _, _, 30, _, _, _, 50, _, _  \n",
    "==> we will fill the missing values from left to right \n",
    "    a. first we will distribute the 30 to left two missing values (10, 10, 10, _, _, _, 50, _, _)\n",
    "    b. now distribute the sum (10+50) missing values in between (10, 10, 12, 12, 12, 12, 12, _, _) \n",
    "    c. now we will distribute 12 to right side missing values (10, 10, 12, 12, 12, 12, 4, 4, 4)\n",
    "</pre>\n",
    "for a given string with comma seprate values, which will have both missing values numbers like ex: \"_, _, x, _, _, _\"\n",
    "you need fill the missing values\n",
    "\n",
    "Q: your program reads a string like ex: \"_, _, x, _, _, _\" and returns the filled sequence\n",
    "\n",
    "Ex: \n",
    "<pre>\n",
    "Input1: \"_,_,_,24\"\n",
    "Output1: 6,6,6,6\n",
    "\n",
    "Input2: \"40,_,_,_,60\"\n",
    "Output2: 20,20,20,20,20\n",
    "\n",
    "Input3: \"80,_,_,_,_\"\n",
    "Output3: 16,16,16,16,16\n",
    "\n",
    "Input4: \"_,_,30,_,_,_,50,_,_\"\n",
    "Output4: 10,10,12,12,12,12,4,4,4\n",
    "</pre>\n",
    "\n"
   ]
  },
  {
   "cell_type": "code",
   "execution_count": 7,
   "metadata": {
    "colab": {},
    "colab_type": "code",
    "id": "nZmpzHs_B-k-"
   },
   "outputs": [
    {
     "name": "stdout",
     "output_type": "stream",
     "text": [
      "[10, 10, 12, 12, 12, 12, 4, 4, 4]\n",
      "[6, 6, 6, 6]\n",
      "[20, 20, 20, 20, 20]\n",
      "[16, 16, 16, 16, 16]\n"
     ]
    }
   ],
   "source": [
    "def curve_smoothing(string):\n",
    "    int_index=[]\n",
    "    New_str_list=string.split(',')\n",
    "    for i in range(len(New_str_list)):\n",
    "        if New_str_list[i]!='_':\n",
    "            int_index.append(i)\n",
    "    int_index.append(len(New_str_list)-1)\n",
    "    \n",
    "    j=0\n",
    "    for i in int_index:\n",
    "        num = int(New_str_list[i]) if New_str_list[i] != '_' else 0\n",
    "        num += int(New_str_list[j]) if New_str_list[j] != '_' and j!=i else 0\n",
    "        \n",
    "        num1=num//(i-j+1)\n",
    "        \n",
    "        New_str_list=[num1 if j<=k<=i else New_str_list[k] for k in range(len(New_str_list))]\n",
    "        \n",
    "        j=i\n",
    "    return New_str_list\n",
    "    \n",
    "\n",
    "S=[\"_,_,30,_,_,_,50,_,_\",\"_,_,_,24\",\"40,_,_,_,60\",\"80,_,_,_,_\"]\n",
    "\n",
    "for i in range(len(S)):\n",
    "    print(curve_smoothing(S[i]))\n",
    "    "
   ]
  },
  {
   "cell_type": "markdown",
   "metadata": {
    "colab_type": "text",
    "id": "RBz4pzlfB-lB"
   },
   "source": [
    "<h3> Q8: Filling the missing values in the specified formate</h3>\n",
    "You will be given a list of lists, each sublist will be of length 2 i.e. [[x,y],[p,q],[l,m]..[r,s]]\n",
    "consider its like a martrix of n rows and two columns\n",
    "1. the first column F will contain only 5 uniques values (F1, F2, F3, F4, F5)\n",
    "2. the second column S will contain only 3 uniques values (S1, S2, S3)\n",
    "<pre>\n",
    "your task is to find\n",
    "a. Probability of P(F=F1|S==S1), P(F=F1|S==S2), P(F=F1|S==S3)\n",
    "b. Probability of P(F=F2|S==S1), P(F=F2|S==S2), P(F=F2|S==S3)\n",
    "c. Probability of P(F=F3|S==S1), P(F=F3|S==S2), P(F=F3|S==S3)\n",
    "d. Probability of P(F=F4|S==S1), P(F=F4|S==S2), P(F=F4|S==S3)\n",
    "e. Probability of P(F=F5|S==S1), P(F=F5|S==S2), P(F=F5|S==S3)\n",
    "</pre>\n",
    "Ex:\n",
    "\n",
    "<pre>\n",
    "[[F1,S1],[F2,S2],[F3,S3],[F1,S2],[F2,S3],[F3,S2],[F2,S1],[F4,S1],[F4,S3],[F5,S1]]\n",
    "\n",
    "a. P(F=F1|S==S1)=1/4, P(F=F1|S==S2)=1/3, P(F=F1|S==S3)=0/3\n",
    "b. P(F=F2|S==S1)=1/4, P(F=F2|S==S2)=1/3, P(F=F2|S==S3)=1/3\n",
    "c. P(F=F3|S==S1)=0/4, P(F=F3|S==S2)=1/3, P(F=F3|S==S3)=1/3\n",
    "d. P(F=F4|S==S1)=1/4, P(F=F4|S==S2)=0/3, P(F=F4|S==S3)=1/3\n",
    "e. P(F=F5|S==S1)=1/4, P(F=F5|S==S2)=0/3, P(F=F5|S==S3)=0/3\n",
    "</pre>\n",
    "\n",
    "\n"
   ]
  },
  {
   "cell_type": "code",
   "execution_count": 8,
   "metadata": {
    "colab": {},
    "colab_type": "code",
    "id": "e-1giz1MB-lC"
   },
   "outputs": [
    {
     "name": "stdout",
     "output_type": "stream",
     "text": [
      "a. P(F=F1|S==S1)= 0.25, P(F=F1|S==S2)= 0.3333333333333333, P(F=F1|S==S3)= 0.0\n",
      "b. P(F=F2|S==S1)= 0.25, P(F=F2|S==S2)= 0.3333333333333333, P(F=F2|S==S3)= 0.3333333333333333\n",
      "c. P(F=F3|S==S1)= 0.0, P(F=F3|S==S2)= 0.3333333333333333, P(F=F3|S==S3)= 0.3333333333333333\n",
      "d. P(F=F4|S==S1)= 0.25, P(F=F4|S==S2)= 0.0, P (F=F4|S==S3)= 0.3333333333333333\n",
      "e. P(F=F5|S==S1)= 0.25, P(F=F5|S==S2)= 0.0, P(F=F5|S==S3)= 0.0"
     ]
    }
   ],
   "source": [
    "def compute_conditional_probabilites(A):\n",
    "    n=0\n",
    "    m=0\n",
    "    for i in range(len(A)):\n",
    "        for j in range(1):\n",
    "            if A[i][j]+A[i][j+1]==A[0][0]+A[0][1]:\n",
    "                n+=1\n",
    "            if A[i][j+1]==A[0][1]:\n",
    "                m+=1\n",
    "    print('a. P(F=F1|S==S1)=',n/m,end=\"\")\n",
    "    \n",
    "    a=0\n",
    "    b=0\n",
    "    for i in range(len(A)):\n",
    "        for j in range(1):\n",
    "            if A[i][j]+A[i][j+1]==A[3][0]+A[3][1]:\n",
    "                a+=1\n",
    "            if A[i][j+1]==A[1][1]:\n",
    "                b+=1\n",
    "    print(', P(F=F1|S==S2)=',a/b,end=\"\")\n",
    "    \n",
    "    c=0\n",
    "    d=0\n",
    "    for i in range(len(A)):\n",
    "        for j in range(1):\n",
    "            if A[i][j]+A[i][j+1]==0:\n",
    "                c+=1\n",
    "            if A[i][j+1]==A[2][1]:\n",
    "                d+=1\n",
    "    print(', P(F=F1|S==S3)=',c/d)\n",
    "    \n",
    "    e=0\n",
    "    f=0\n",
    "    for i in range(len(A)):\n",
    "        for j in range(1):\n",
    "            if A[i][j]+A[i][j+1]==A[6][0]+A[6][1]:\n",
    "                e+=1\n",
    "            if A[i][j+1]==A[0][1]:\n",
    "                f+=1\n",
    "    print('b. P(F=F2|S==S1)=',e/f,end=\"\")\n",
    "    \n",
    "    g=0\n",
    "    h=0\n",
    "    for i in range(len(A)):\n",
    "        for j in range(1):\n",
    "            if A[i][j]+A[i][j+1]==A[1][0]+A[1][1]:\n",
    "                g+=1\n",
    "            if A[i][j+1]==A[1][1]:\n",
    "                h+=1\n",
    "    print(', P(F=F2|S==S2)=',g/h,end=\"\")\n",
    "    \n",
    "    k=0\n",
    "    l=0\n",
    "    for i in range(len(A)):\n",
    "        for j in range(1):\n",
    "            if A[i][j]+A[i][j+1]==A[4][0]+A[4][1]:\n",
    "                k+=1\n",
    "            if A[i][j+1]==A[2][1]:\n",
    "                l+=1\n",
    "    print(', P(F=F2|S==S3)=',k/l)\n",
    "    \n",
    "    o=0\n",
    "    p=0\n",
    "    for i in range(len(A)):\n",
    "        for j in range(1):\n",
    "            if A[i][j]+A[i][j+1]==0:\n",
    "                o+=1\n",
    "            if A[i][j+1]==A[0][1]:\n",
    "                p+=1\n",
    "    print('c. P(F=F3|S==S1)=',o/p,end=\"\")\n",
    "\n",
    "    q=0\n",
    "    r=0\n",
    "    for i in range(len(A)):\n",
    "        for j in range(1):\n",
    "            if A[i][j]+A[i][j+1]==A[5][0]+A[5][1]:\n",
    "                q+=1\n",
    "            if A[i][j+1]==A[1][1]:\n",
    "                r+=1\n",
    "    print(', P(F=F3|S==S2)=',q/r,end=\"\")\n",
    "    \n",
    "    s=0\n",
    "    t=0\n",
    "    for i in range(len(A)):\n",
    "        for j in range(1):\n",
    "            if A[i][j]+A[i][j+1]==A[2][0]+A[2][1]:\n",
    "                s+=1\n",
    "            if A[i][j+1]==A[2][1]:\n",
    "                t+=1\n",
    "    print(', P(F=F3|S==S3)=',s/t)\n",
    "    \n",
    "    u=0\n",
    "    v=0\n",
    "    for i in range(len(A)):\n",
    "        for j in range(1):\n",
    "            if A[i][j]+A[i][j+1]==A[7][0]+A[7][1]:\n",
    "                u+=1\n",
    "            if A[i][j+1]==A[0][1]:\n",
    "                v+=1\n",
    "    print('d. P(F=F4|S==S1)=',u/v,end=\"\")\n",
    "    \n",
    "    w=0\n",
    "    x=0\n",
    "    for i in range(len(A)):\n",
    "        for j in range(1):\n",
    "            if A[i][j]+A[i][j+1]==0:\n",
    "                w+=1\n",
    "            if A[i][j+1]==A[1][1]:\n",
    "                x+=1\n",
    "    print(', P(F=F4|S==S2)=',w/x,end=\"\")\n",
    "    \n",
    "    y=0\n",
    "    z=0\n",
    "    for i in range(len(A)):\n",
    "        for j in range(1):\n",
    "            if A[i][j]+A[i][j+1]==A[8][0]+A[8][1]:\n",
    "                y+=1\n",
    "            if A[i][j+1]==A[2][1]:\n",
    "                z+=1\n",
    "    print(', P (F=F4|S==S3)=',y/z)\n",
    "    \n",
    "    B=0\n",
    "    C=0\n",
    "    for i in range(len(A)):\n",
    "        for j in range(1):\n",
    "            if A[i][j]+A[i][j+1]==A[9][0]+A[9][1]:\n",
    "                B+=1\n",
    "            if A[i][j+1]==A[0][1]:\n",
    "                C+=1\n",
    "    print('e. P(F=F5|S==S1)=',B/C,end=\"\")\n",
    "    \n",
    "    D=0\n",
    "    E=0\n",
    "    for i in range(len(A)):\n",
    "        for j in range(1):\n",
    "            if A[i][j]+A[i][j+1]==0:\n",
    "                D+=1\n",
    "            if A[i][j+1]==A[1][1]:\n",
    "                E+=1\n",
    "    print(', P(F=F5|S==S2)=',D/E,end=\"\")\n",
    "    \n",
    "    F=0\n",
    "    G=0\n",
    "    for i in range(len(A)):\n",
    "        for j in range(1):\n",
    "            if A[i][j]+A[i][j+1]==0:\n",
    "                F+=1\n",
    "            if A[i][j+1]==A[2][1]:\n",
    "                G+=1\n",
    "    print(', P(F=F5|S==S3)=',F/G,end=\"\")\n",
    "\n",
    "A = [['F1','S1'],['F2','S2'],['F3','S3'],['F1','S2'],['F2','S3'],['F3','S2'],['F2','S1'],['F4','S1'],['F4','S3'],['F5','S1']]\n",
    "\n",
    "compute_conditional_probabilites(A)"
   ]
  },
  {
   "cell_type": "markdown",
   "metadata": {
    "colab_type": "text",
    "id": "n4HS87QmB-lF"
   },
   "source": [
    "<h3> Q9: Given two sentances S1, S2</h3>\n",
    "You will be given two sentances S1, S2 your task is to find \n",
    "<pre>\n",
    "a. Number of common words between S1, S2\n",
    "b. Words in S1 but not in S2\n",
    "c. Words in S2 but not in S1\n",
    "</pre>\n",
    "\n",
    "Ex: \n",
    "<pre>\n",
    "S1= \"the first column F will contain only 5 uniques values\"\n",
    "S2= \"the second column S will contain only 3 uniques values\"\n",
    "Output:\n",
    "a. 7\n",
    "b. ['first','F','5']\n",
    "c. ['second','S','3']\n",
    "</pre>"
   ]
  },
  {
   "cell_type": "code",
   "execution_count": 9,
   "metadata": {
    "colab": {},
    "colab_type": "code",
    "id": "Ez7hlHK0B-lG"
   },
   "outputs": [
    {
     "name": "stdout",
     "output_type": "stream",
     "text": [
      "a. 7\n",
      "b. ['F', '5', 'first']\n",
      "c. ['second', '3', 'S']\n"
     ]
    }
   ],
   "source": [
    "def string_features(S1, S2):\n",
    "    S1_set=set(S1.split())\n",
    "    \n",
    "    S2_set=set(S2.split())\n",
    "    \n",
    "    A=print('a.',len(S1_set & S2_set))\n",
    "    B=print('b.',list(S1_set - S2_set))\n",
    "    C=print('c.',list(S2_set - S1_set))\n",
    "    \n",
    "    return A\n",
    "    return B\n",
    "    return C\n",
    "\n",
    "S1= \"the first column F will contain only 5 uniques values\"\n",
    "S2= \"the second column S will contain only 3 uniques values\"\n",
    "string_features(S1, S2)"
   ]
  },
  {
   "cell_type": "markdown",
   "metadata": {
    "colab_type": "text",
    "id": "XefXVEjCB-lI"
   },
   "source": [
    "<h3> Q10: Given two sentances S1, S2</h3>\n",
    "You will be given a list of lists, each sublist will be of length 2 i.e. [[x,y],[p,q],[l,m]..[r,s]]\n",
    "consider its like a martrix of n rows and two columns\n",
    "\n",
    "a. the first column Y will contain interger values <br>\n",
    "b. the second column $Y_{score}$ will be having float values <br>\n",
    "Your task is to find the value of $f(Y,Y_{score}) = -1*\\frac{1}{n}\\Sigma_{for each Y,Y_{score} pair}(Ylog10(Y_{score})+(1-Y)log10(1-Y_{score}))$ here n is the number of rows in the matrix\n",
    "<pre>\n",
    "Ex:\n",
    "[[1, 0.4], [0, 0.5], [0, 0.9], [0, 0.3], [0, 0.6], [1, 0.1], [1, 0.9], [1, 0.8]]\n",
    "output:\n",
    "0.4243099\n",
    "</pre>\n",
    "$\\frac{-1}{8}\\cdot((1\\cdot log_{10}(0.4)+0\\cdot log_{10}(0.6))+(0\\cdot log_{10}(0.5)+1\\cdot log_{10}(0.5)) + ... + (1\\cdot log_{10}(0.8)+0\\cdot log_{10}(0.2)) )$"
   ]
  },
  {
   "cell_type": "code",
   "execution_count": 10,
   "metadata": {
    "colab": {},
    "colab_type": "code",
    "id": "N9zkagyNB-lJ"
   },
   "outputs": [
    {
     "data": {
      "text/plain": [
       "0.42430993457031635"
      ]
     },
     "execution_count": 10,
     "metadata": {},
     "output_type": "execute_result"
    }
   ],
   "source": [
    "from math import log\n",
    "\n",
    "def compute_log_loss(A):\n",
    "    function_Y_Ys=0\n",
    "    for i in A:\n",
    "        function_Y_Ys +=(i[0]*log(i[1],10)+((1-i[0])*log(1-i[1],10)))\n",
    "    Function_N=-1 * function_Y_Ys/len(A)\n",
    "    return Function_N\n",
    "\n",
    "A=[[1,0.4],[0,0.5],[0,0.9],[0,0.3],[0,0.6],[1,0.1],[1,0.9],[1,0.8]]\n",
    "\n",
    "compute_log_loss(A)\n"
   ]
  },
  {
   "cell_type": "code",
   "execution_count": null,
   "metadata": {},
   "outputs": [],
   "source": []
  }
 ],
 "metadata": {
  "colab": {
   "collapsed_sections": [],
   "name": "1.Python Assignment.ipynb",
   "provenance": []
  },
  "kernelspec": {
   "display_name": "Python 3",
   "language": "python",
   "name": "python3"
  },
  "language_info": {
   "codemirror_mode": {
    "name": "ipython",
    "version": 3
   },
   "file_extension": ".py",
   "mimetype": "text/x-python",
   "name": "python",
   "nbconvert_exporter": "python",
   "pygments_lexer": "ipython3",
   "version": "3.6.5"
  }
 },
 "nbformat": 4,
 "nbformat_minor": 1
}
