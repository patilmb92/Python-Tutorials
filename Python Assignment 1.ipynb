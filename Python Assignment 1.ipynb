{
 "cells": [
  {
   "cell_type": "code",
   "execution_count": 1,
   "metadata": {},
   "outputs": [
    {
     "name": "stdout",
     "output_type": "stream",
     "text": [
      "Table of the number:2\n",
      "2\n",
      "4\n",
      "6\n",
      "8\n",
      "10\n",
      "12\n",
      "14\n",
      "16\n",
      "18\n",
      "20\n"
     ]
    }
   ],
   "source": [
    "# 1. Write a function that inputs a number and print the multiplication number\n",
    "\n",
    "def table_of_number(num):\n",
    "    for i in range(1,11):\n",
    "        i=i*num\n",
    "        print(i)   \n",
    "num=int(input(\"Table of the number:\"))\n",
    "table_of_number(num)"
   ]
  },
  {
   "cell_type": "code",
   "execution_count": 2,
   "metadata": {},
   "outputs": [
    {
     "name": "stdout",
     "output_type": "stream",
     "text": [
      "Twin_Prime less than 1000 are: \n",
      "3 and 5\n",
      "5 and 7\n",
      "11 and 13\n",
      "17 and 19\n",
      "29 and 31\n",
      "41 and 43\n",
      "59 and 61\n",
      "71 and 73\n",
      "101 and 103\n",
      "107 and 109\n",
      "137 and 139\n",
      "149 and 151\n",
      "179 and 181\n",
      "191 and 193\n",
      "197 and 199\n",
      "227 and 229\n",
      "239 and 241\n",
      "269 and 271\n",
      "281 and 283\n",
      "311 and 313\n",
      "347 and 349\n",
      "419 and 421\n",
      "431 and 433\n",
      "461 and 463\n",
      "521 and 523\n",
      "569 and 571\n",
      "599 and 601\n",
      "617 and 619\n",
      "641 and 643\n",
      "659 and 661\n",
      "809 and 811\n",
      "821 and 823\n",
      "827 and 829\n",
      "857 and 859\n",
      "881 and 883\n"
     ]
    }
   ],
   "source": [
    "# 2.Write a program to print twin primes less than 1000. If two consecutive odd numbers are both prime then they are known as twin primes\n",
    "\n",
    "def Prime_number(num):\n",
    "    isdivisible=False\n",
    "    i=2\n",
    "    while i<num:\n",
    "        if num%i==0:\n",
    "            isdivisible=True\n",
    "        i+=1\n",
    "    if num==1: \n",
    "        isdivisible=True\n",
    "    if isdivisible:\n",
    "        return False\n",
    "    else:\n",
    "        return True\n",
    "    \n",
    "def Twin_Prime(num):\n",
    "   \n",
    "    for a in range(2,num):\n",
    "        b = a + 2\n",
    "        if (Prime_number(a) and Prime_number(b)):\n",
    "            print(a,\"and\",b)\n",
    "\n",
    "print(\"Twin_Prime less than 1000 are: \")\n",
    "Twin_Prime(1000)"
   ]
  },
  {
   "cell_type": "code",
   "execution_count": 3,
   "metadata": {},
   "outputs": [
    {
     "name": "stdout",
     "output_type": "stream",
     "text": [
      "2\n",
      "3\n"
     ]
    }
   ],
   "source": [
    "# 3.Write a program to find out the prime factors of a number.\n",
    "def primefactor(x):\n",
    "    for i in range(2,x):\n",
    "        if x%i==0:\n",
    "            s=0\n",
    "            for j in range(2,i):\n",
    "                if i%j==0:\n",
    "                    s=1\n",
    "            if s==0:\n",
    "                print(i)\n",
    "primefactor(6)"
   ]
  },
  {
   "cell_type": "code",
   "execution_count": 4,
   "metadata": {},
   "outputs": [
    {
     "name": "stdout",
     "output_type": "stream",
     "text": [
      "5P2= 20.0\n",
      "5C5= 1.0\n"
     ]
    }
   ],
   "source": [
    "# 4.Write a program to implement these formulae of permutations and combinations. Number of permutations of n objects taken r at a time: p(n, r) = n! / (n-r)!. Number of combinations of n objects taken r at a time is: c(n, r) = n! / (r!*(n-r)!) = p(n,r) / r!\n",
    "\n",
    "#nPr\n",
    "def factorial(n):\n",
    "    f=1\n",
    "    for i in range(1,n+1):\n",
    "        f=f*i\n",
    "    return(f)\n",
    "def permutation(n,r):\n",
    "    return(factorial(n)/factorial(n-r))\n",
    "print(\"5P2=\",permutation(5,2))\n",
    "\n",
    "# nCr\n",
    "def combination(n,r):\n",
    "    return(factorial(n)/((factorial(n-r))*factorial(r)))\n",
    "print(\"5C5=\",combination(5,5))"
   ]
  },
  {
   "cell_type": "code",
   "execution_count": 5,
   "metadata": {},
   "outputs": [
    {
     "name": "stdout",
     "output_type": "stream",
     "text": [
      "Enter the number10\n",
      "1010"
     ]
    }
   ],
   "source": [
    "# 5. Write a function that convert decimal number to binary Number\n",
    "def decimal_to_binary(num):\n",
    "    if num>1:\n",
    "        decimal_to_binary(num//2)\n",
    "    print(num%2,end=\"\")\n",
    "    \n",
    "num=int(input(\"Enter the number\"))\n",
    "\n",
    "decimal_to_binary(num)"
   ]
  },
  {
   "cell_type": "code",
   "execution_count": 8,
   "metadata": {},
   "outputs": [
    {
     "name": "stdout",
     "output_type": "stream",
     "text": [
      "Enter the Number:153\n",
      "sum of cube of each digit of number: 153 is 153\n",
      "153  is armstrong number:  True\n",
      "Armstrong:  [0, 1, 153]\n"
     ]
    }
   ],
   "source": [
    "# 6.Write a function cubesum() that accepts an integer and returns the sum of the cubes of individual digits of that number. Use this function to make functions PrintArmstrong() and isArmstrong() to print Armstrong numbers and to find whether is an Armstrong number.\n",
    "#cube sume function\n",
    "n=int(input(\"Enter the Number:\"))\n",
    "def cubeSum(n):\n",
    "    s=1\n",
    "    while n>0:\n",
    "        s=s+((n%10)**3)\n",
    "        n=n//10\n",
    "    return(s-1)\n",
    "\n",
    "cubeSum(n)\n",
    "\n",
    "print(\"sum of cube of each digit of number:\",n,\"is\",cubeSum(n))\n",
    "\n",
    "   \n",
    "\n",
    "def isArmstrong(n):\n",
    "    if n==cubeSum(n):\n",
    "        \n",
    "        return True\n",
    "        \n",
    "    else:\n",
    "        \n",
    "        return False\n",
    "print(n,\" is armstrong number: \", isArmstrong(n))\n",
    "        \n",
    "\n",
    "def printArmstrong(n):\n",
    "    Armstrong = []\n",
    "    for i in range(n+1):\n",
    "        if isArmstrong(i):\n",
    "            Armstrong.append(i)\n",
    "    return Armstrong\n",
    "    \n",
    "print(\"Armstrong: \", printArmstrong(n))\n"
   ]
  },
  {
   "cell_type": "code",
   "execution_count": 9,
   "metadata": {},
   "outputs": [
    {
     "name": "stdout",
     "output_type": "stream",
     "text": [
      "enter the number:1234\n",
      "Product of digits of given number is:24\n"
     ]
    }
   ],
   "source": [
    "# 7. # Write a function proDigits() that inputs a number abd return the product of digits of that number #\n",
    "def proDigits(x):\n",
    "    p=1\n",
    "    while x>0:\n",
    "        p=p*(x%10)\n",
    "        x=x//10\n",
    "    print(p)\n",
    "x=int(input(\"enter the number:\"))\n",
    "print(\"Product of digits of given number is:\", end=\"\") \n",
    "proDigits(x)\n"
   ]
  },
  {
   "cell_type": "code",
   "execution_count": 10,
   "metadata": {},
   "outputs": [
    {
     "name": "stdout",
     "output_type": "stream",
     "text": [
      "For given number MDR and Mpersistance is respectively\n"
     ]
    },
    {
     "data": {
      "text/plain": [
       "(2, 2)"
      ]
     },
     "execution_count": 10,
     "metadata": {},
     "output_type": "execute_result"
    }
   ],
   "source": [
    "# 8.If all digits of a number n are multiplied by each other repeating with the product, the one digit number obtained at last is called the multiplicative digital root of n. The number of times digits need to be multiplied to reach one digit is called the multiplicative persistance of n\n",
    "# Example: 86 -> 48 -> 32 -> 6 (MDR 6, MPersistence 3) 341 -> 12->2 (MDR 2, MPersistence 2) Using the function prodDigits() of previous exercise write functions MDR() and MPersistence() that input a number and return its multiplicative digital root and multiplicative persistence respectively\n",
    "\n",
    "def proDigits(x):\n",
    "    num=x\n",
    "    p=1\n",
    "    while num>0:\n",
    "        p=p*(num%10)\n",
    "        num=num//10\n",
    "    return p\n",
    "    \n",
    "def MDR(num):\n",
    "    m_d_r = num\n",
    "    count = 0\n",
    "    while m_d_r > 9:\n",
    "        m_d_r = (proDigits(m_d_r))\n",
    "        count += 1\n",
    "    return m_d_r, count\n",
    "print(\"For given number MDR and Mpersistance is respectively\")\n",
    "MDR(341)\n"
   ]
  },
  {
   "cell_type": "code",
   "execution_count": 11,
   "metadata": {},
   "outputs": [
    {
     "name": "stdout",
     "output_type": "stream",
     "text": [
      "55\n"
     ]
    }
   ],
   "source": [
    "# 9. Write a function sumPdivisors() that finds the sum of proper divisors of a number.\n",
    "\n",
    "def sumPdivisors(x):\n",
    "    num=x\n",
    "    s=0\n",
    "    for i in range(1,num):\n",
    "        if num%i==0:\n",
    "            s=s+i\n",
    "    print(s)\n",
    "sumPdivisors(36) \n"
   ]
  },
  {
   "cell_type": "code",
   "execution_count": 12,
   "metadata": {},
   "outputs": [
    {
     "name": "stdout",
     "output_type": "stream",
     "text": [
      "0\n",
      "6\n",
      "28\n",
      "496\n"
     ]
    }
   ],
   "source": [
    "# 10. A number is called perfect if the sum of proper divisors of that number is equal to the number. For example 28 is perfect number, since 1+2+4+7+14=28. Write a program to print all the perfect numbers in a given range\n",
    "\n",
    "#Write a program to print all the perfect numbers in a given range\n",
    "def sumPdivisors(num):\n",
    "    s=0\n",
    "    for i in range(1, num):        \n",
    "        if num % i == 0:\n",
    "            s+=i\n",
    "            \n",
    "    return s\n",
    "\n",
    "def perfectNums(num):\n",
    "    for i in range(num):\n",
    "        if i==sumPdivisors(i):\n",
    "            print(i)\n",
    "            \n",
    "perfectNums(500)\n"
   ]
  },
  {
   "cell_type": "code",
   "execution_count": 13,
   "metadata": {},
   "outputs": [
    {
     "name": "stdout",
     "output_type": "stream",
     "text": [
      "(220, 284)  Both are the amicable numbers.\n",
      "(284, 220)  Both are the amicable numbers.\n"
     ]
    }
   ],
   "source": [
    "# 11. Two different numbers are called amicable numbers if the sum of the proper divisors of each is equal to the other number. For example 220 and 284 are amicable numbers.\n",
    "\n",
    "def sumPdivisors(num):\n",
    "    s=0\n",
    "    for i in range(1, num):        \n",
    "        if num % i == 0:\n",
    "            s+=i\n",
    "            \n",
    "    return s\n",
    "\n",
    "def amicable_num(num):\n",
    "    for a in range(num):\n",
    "        for b in range(num):\n",
    "            if a==sumPdivisors(b) and b==sumPdivisors(a):\n",
    "                if a!=b:\n",
    "                    print((a,b),\" Both are the amicable numbers.\")\n",
    "                    \n",
    "amicable_num(500)\n"
   ]
  },
  {
   "cell_type": "code",
   "execution_count": 14,
   "metadata": {},
   "outputs": [
    {
     "name": "stdout",
     "output_type": "stream",
     "text": [
      "Enter the range of list10\n",
      "original list: [1, 2, 3, 4, 5, 6, 7, 8, 9, 10]\n",
      "filter_list [1, 3, 5, 7, 9]\n"
     ]
    }
   ],
   "source": [
    "# 12 Write a program which can filter odd numbers in a list by using filter function\n",
    "\n",
    "lst=[]\n",
    "n=int(input(\"Enter the range of list\"))\n",
    "for i in range(1,n+1):\n",
    "    lst.append(i)\n",
    "print(\"original list:\",lst)\n",
    "odd_numbers=list(filter(lambda n:n%2!=0,lst))\n",
    "print(\"filter_list\",odd_numbers)\n"
   ]
  },
  {
   "cell_type": "code",
   "execution_count": 15,
   "metadata": {},
   "outputs": [
    {
     "name": "stdout",
     "output_type": "stream",
     "text": [
      "Enter the range of list10\n",
      "original list: [1, 2, 3, 4, 5, 6, 7, 8, 9, 10]\n",
      "Map_list [1, 8, 27, 64, 125, 216, 343, 512, 729, 1000]\n"
     ]
    }
   ],
   "source": [
    "# 13. Write a program which can map() to make a list whose elements are cube of elements in a given list\n",
    "\n",
    "lst=[]\n",
    "n=int(input(\"Enter the range of list\"))\n",
    "for i in range(1,n+1):\n",
    "    lst.append(i)\n",
    "print(\"original list:\",lst)\n",
    "odd_numbers=list(map(lambda n:n**3,lst))\n",
    "print(\"Map_list\",odd_numbers)"
   ]
  },
  {
   "cell_type": "code",
   "execution_count": 16,
   "metadata": {},
   "outputs": [
    {
     "name": "stdout",
     "output_type": "stream",
     "text": [
      "Enter the range of list10\n",
      "original list: [1, 2, 3, 4, 5, 6, 7, 8, 9, 10]\n",
      "filter_even_list [2, 4, 6, 8, 10]\n",
      "Map_cube_even_list [8, 64, 216, 512, 1000]\n"
     ]
    }
   ],
   "source": [
    "# 14.Write a program which can map() and filter() to make a list whose elements are cube of even number in a given list\n",
    "\n",
    "lst=[]\n",
    "n=int(input(\"Enter the range of list\"))\n",
    "for i in range(1,n+1):\n",
    "    lst.append(i)\n",
    "print(\"original list:\",lst)\n",
    "even_list=list(filter(lambda n:n%2==0,lst))\n",
    "print(\"filter_even_list\",even_list)\n",
    "cube_even_list=list(map(lambda n:n**3,even_list))\n",
    "print(\"Map_cube_even_list\",cube_even_list)"
   ]
  },
  {
   "cell_type": "code",
   "execution_count": null,
   "metadata": {},
   "outputs": [],
   "source": []
  }
 ],
 "metadata": {
  "kernelspec": {
   "display_name": "Python 3",
   "language": "python",
   "name": "python3"
  },
  "language_info": {
   "codemirror_mode": {
    "name": "ipython",
    "version": 3
   },
   "file_extension": ".py",
   "mimetype": "text/x-python",
   "name": "python",
   "nbconvert_exporter": "python",
   "pygments_lexer": "ipython3",
   "version": "3.6.5"
  }
 },
 "nbformat": 4,
 "nbformat_minor": 2
}
